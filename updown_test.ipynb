{
 "cells": [
  {
   "cell_type": "markdown",
   "metadata": {},
   "source": [
    "https://github.com/dropbox/dropbox-sdk-python"
   ]
  },
  {
   "cell_type": "code",
   "execution_count": 7,
   "metadata": {},
   "outputs": [],
   "source": [
    "#pip install dropbox"
   ]
  },
  {
   "cell_type": "code",
   "execution_count": 2,
   "metadata": {},
   "outputs": [],
   "source": [
    "import updown"
   ]
  },
  {
   "cell_type": "code",
   "execution_count": 3,
   "metadata": {},
   "outputs": [
    {
     "name": "stdout",
     "output_type": "stream",
     "text": [
      "Help on function upload in module updown:\n",
      "\n",
      "upload(dbx, fullname, folder, subfolder, name, overwrite=False)\n",
      "    Upload a file.\n",
      "    \n",
      "    Return the request response, or None in case of error.\n",
      "\n"
     ]
    }
   ],
   "source": [
    "help(updown.upload)"
   ]
  },
  {
   "cell_type": "markdown",
   "metadata": {},
   "source": [
    "dbx:ドロップボックスの認証（dropbox.Dropbox(TOKEN)）\n",
    "\n",
    "fullname:アップロードするファイルのフルパス\n",
    "\n",
    "folder:よく分かんない、空欄でいいと思う\n",
    "\n",
    "subfolder:よく分かんない、空欄でいいと思う\n",
    "\n",
    "name:アップロードしたファイルの名前"
   ]
  },
  {
   "cell_type": "code",
   "execution_count": 5,
   "metadata": {},
   "outputs": [],
   "source": [
    "TOKEN = 'fzGKAI2TU6wAAAAAAAAAAQjP2w9F9mD6GSFa0sTRzQNuId_TT3q37p9AvhBHZs3L'"
   ]
  },
  {
   "cell_type": "code",
   "execution_count": 6,
   "metadata": {},
   "outputs": [
    {
     "name": "stdout",
     "output_type": "stream",
     "text": [
      "Total elapsed time for upload 947 bytes: 1.299\n",
      "uploaded as b'README.md'\n"
     ]
    },
    {
     "data": {
      "text/plain": [
       "FileMetadata(name='README.md', id='id:u6owJPTmgEAAAAAAAAAAJg', client_modified=datetime.datetime(2020, 10, 22, 1, 41, 43), server_modified=datetime.datetime(2020, 10, 22, 2, 23, 56), rev='015b23927f6b16800000001fce6f640', size=947, path_lower='/readme.md', path_display='/README.md', parent_shared_folder_id=None, media_info=None, symlink_info=None, sharing_info=None, is_downloadable=True, export_info=None, property_groups=None, has_explicit_shared_members=None, content_hash='c6b5e7dd7fee5271c3a9f2c5dafaef4c2f25d4904db6b3d8b3b0efc133117e7a', file_lock_info=None)"
      ]
     },
     "execution_count": 6,
     "metadata": {},
     "output_type": "execute_result"
    }
   ],
   "source": [
    "updown.upload(updown.dropbox.Dropbox(TOKEN),'C:\\\\Users\\\\Mats\\\\Documents\\\\GitHub\\\\Raspberry_Pi_recording_radiko\\\\README.md','','','README.md')"
   ]
  }
 ],
 "metadata": {
  "kernelspec": {
   "display_name": "Python 3",
   "language": "python",
   "name": "python3"
  },
  "language_info": {
   "codemirror_mode": {
    "name": "ipython",
    "version": 3
   },
   "file_extension": ".py",
   "mimetype": "text/x-python",
   "name": "python",
   "nbconvert_exporter": "python",
   "pygments_lexer": "ipython3",
   "version": "3.8.3"
  }
 },
 "nbformat": 4,
 "nbformat_minor": 4
}
