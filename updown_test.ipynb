{
 "cells": [
  {
   "cell_type": "markdown",
   "metadata": {},
   "source": [
    "https://github.com/dropbox/dropbox-sdk-python"
   ]
  },
  {
   "cell_type": "code",
   "execution_count": 1,
   "metadata": {},
   "outputs": [],
   "source": [
    "#pip install dropbox"
   ]
  },
  {
   "cell_type": "code",
   "execution_count": 2,
   "metadata": {},
   "outputs": [],
   "source": [
    "import updown\n",
    "from pprint import pprint"
   ]
  },
  {
   "cell_type": "code",
   "execution_count": 3,
   "metadata": {},
   "outputs": [
    {
     "name": "stdout",
     "output_type": "stream",
     "text": [
      "Help on function upload in module updown:\n",
      "\n",
      "upload(dbx, fullname, folder, subfolder, name, overwrite=False)\n",
      "    Upload a file.\n",
      "    \n",
      "    Return the request response, or None in case of error.\n",
      "\n"
     ]
    }
   ],
   "source": [
    "help(updown.upload)"
   ]
  },
  {
   "cell_type": "markdown",
   "metadata": {},
   "source": [
    "dbx:ドロップボックスの認証（dropbox.Dropbox(TOKEN)）\n",
    "\n",
    "fullname:アップロードするファイルのフルパス\n",
    "\n",
    "folder:よく分かんない、空欄でいいと思う\n",
    "\n",
    "subfolder:よく分かんない、空欄でいいと思う\n",
    "\n",
    "name:アップロードしたファイルの名前"
   ]
  },
  {
   "cell_type": "code",
   "execution_count": 4,
   "metadata": {},
   "outputs": [],
   "source": [
    "TOKEN = 'hogehogehoge'"
   ]
  },
  {
   "cell_type": "code",
   "execution_count": 5,
   "metadata": {},
   "outputs": [
    {
     "name": "stdout",
     "output_type": "stream",
     "text": [
      "Total elapsed time for upload 947 bytes: 1.355\n",
      "uploaded as b'README.md'\n"
     ]
    },
    {
     "data": {
      "text/plain": [
       "FileMetadata(name='README.md', id='id:u6owJPTmgEAAAAAAAAAAJw', client_modified=datetime.datetime(2020, 10, 22, 6, 32, 5), server_modified=datetime.datetime(2020, 10, 22, 6, 32, 54), rev='015b23ca2506af000000001fce6f640', size=947, path_lower='/readme.md', path_display='/README.md', parent_shared_folder_id=None, media_info=None, symlink_info=None, sharing_info=None, is_downloadable=True, export_info=None, property_groups=None, has_explicit_shared_members=None, content_hash='c6b5e7dd7fee5271c3a9f2c5dafaef4c2f25d4904db6b3d8b3b0efc133117e7a', file_lock_info=None)"
      ]
     },
     "execution_count": 5,
     "metadata": {},
     "output_type": "execute_result"
    }
   ],
   "source": [
    "updown.upload(updown.dropbox.Dropbox(TOKEN),'C:\\\\Users\\\\Mats\\\\Documents\\\\GitHub\\\\Raspberry_Pi_recording_radiko\\\\README.md','','','README.md')"
   ]
  },
  {
   "cell_type": "code",
   "execution_count": 6,
   "metadata": {},
   "outputs": [
    {
     "name": "stdout",
     "output_type": "stream",
     "text": [
      "Help on function download in module updown:\n",
      "\n",
      "download(dbx, folder, subfolder, name)\n",
      "    Download a file.\n",
      "    \n",
      "    Return the bytes of the file, or None if it doesn't exist.\n",
      "\n"
     ]
    }
   ],
   "source": [
    "help(updown.download)"
   ]
  },
  {
   "cell_type": "markdown",
   "metadata": {},
   "source": [
    "返り値がdownloadしたファイルのバイナリーだからバイナリーで書き出してあげる必要がある"
   ]
  },
  {
   "cell_type": "code",
   "execution_count": 7,
   "metadata": {},
   "outputs": [
    {
     "name": "stdout",
     "output_type": "stream",
     "text": [
      "Total elapsed time for download: 0.954\n",
      "947 bytes; md: FileMetadata(name='README.md', id='id:u6owJPTmgEAAAAAAAAAAJw', client_modified=datetime.datetime(2020, 10, 22, 6, 32, 5), server_modified=datetime.datetime(2020, 10, 22, 6, 32, 54), rev='015b23ca2506af000000001fce6f640', size=947, path_lower='/readme.md', path_display='/README.md', parent_shared_folder_id=None, media_info=None, symlink_info=None, sharing_info=None, is_downloadable=True, export_info=None, property_groups=None, has_explicit_shared_members=None, content_hash='c6b5e7dd7fee5271c3a9f2c5dafaef4c2f25d4904db6b3d8b3b0efc133117e7a', file_lock_info=None)\n"
     ]
    }
   ],
   "source": [
    "with open('README.md','wb') as f:\n",
    "    f.write(updown.download(updown.dropbox.Dropbox(TOKEN),'','','README.md'))"
   ]
  },
  {
   "cell_type": "code",
   "execution_count": 8,
   "metadata": {},
   "outputs": [
    {
     "name": "stdout",
     "output_type": "stream",
     "text": [
      "Help on function list_folder in module updown:\n",
      "\n",
      "list_folder(dbx, folder, subfolder)\n",
      "    List a folder.\n",
      "    \n",
      "    Return a dict mapping unicode filenames to\n",
      "    FileMetadata|FolderMetadata entries.\n",
      "\n"
     ]
    }
   ],
   "source": [
    "help(updown.list_folder)"
   ]
  },
  {
   "cell_type": "code",
   "execution_count": 9,
   "metadata": {},
   "outputs": [
    {
     "name": "stdout",
     "output_type": "stream",
     "text": [
      "Total elapsed time for list_folder: 1.780\n"
     ]
    }
   ],
   "source": [
    "list_folder = updown.list_folder(updown.dropbox.Dropbox(TOKEN),'','')"
   ]
  },
  {
   "cell_type": "code",
   "execution_count": 10,
   "metadata": {},
   "outputs": [
    {
     "data": {
      "text/plain": [
       "dict_keys(['README.md'])"
      ]
     },
     "execution_count": 10,
     "metadata": {},
     "output_type": "execute_result"
    }
   ],
   "source": [
    "list_folder.keys()"
   ]
  },
  {
   "cell_type": "markdown",
   "metadata": {},
   "source": [
    "辞書のキーはファイル名、その中身はファイルのメタデータ"
   ]
  },
  {
   "cell_type": "code",
   "execution_count": 11,
   "metadata": {},
   "outputs": [],
   "source": [
    "dropbox = updown.dropbox.Dropbox(TOKEN)"
   ]
  },
  {
   "cell_type": "code",
   "execution_count": 12,
   "metadata": {},
   "outputs": [
    {
     "name": "stdout",
     "output_type": "stream",
     "text": [
      "Total elapsed time for delete: 0.850\n"
     ]
    },
    {
     "data": {
      "text/plain": [
       "FileMetadata(name='README.md', id='id:u6owJPTmgEAAAAAAAAAAJw', client_modified=datetime.datetime(2020, 10, 22, 6, 32, 5), server_modified=datetime.datetime(2020, 10, 22, 6, 32, 54), rev='015b23ca2506af000000001fce6f640', size=947, path_lower='/readme.md', path_display='/README.md', parent_shared_folder_id=None, media_info=None, symlink_info=None, sharing_info=None, is_downloadable=True, export_info=None, property_groups=None, has_explicit_shared_members=None, content_hash='c6b5e7dd7fee5271c3a9f2c5dafaef4c2f25d4904db6b3d8b3b0efc133117e7a', file_lock_info=None)"
      ]
     },
     "execution_count": 12,
     "metadata": {},
     "output_type": "execute_result"
    }
   ],
   "source": [
    "updown.delete(updown.dropbox.Dropbox(TOKEN),'','','README.md')"
   ]
  },
  {
   "cell_type": "markdown",
   "metadata": {},
   "source": [
    "アップロードはラズパイから適当にやって<br>\n",
    "ダウンロード＆削除はPC側から適当にやっとく"
   ]
  }
 ],
 "metadata": {
  "kernelspec": {
   "display_name": "Python 3",
   "language": "python",
   "name": "python3"
  },
  "language_info": {
   "codemirror_mode": {
    "name": "ipython",
    "version": 3
   },
   "file_extension": ".py",
   "mimetype": "text/x-python",
   "name": "python",
   "nbconvert_exporter": "python",
   "pygments_lexer": "ipython3",
   "version": "3.8.3"
  }
 },
 "nbformat": 4,
 "nbformat_minor": 4
}
